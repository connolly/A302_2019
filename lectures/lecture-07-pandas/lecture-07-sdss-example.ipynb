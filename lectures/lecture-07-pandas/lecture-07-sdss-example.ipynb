{
 "cells": [
  {
   "cell_type": "markdown",
   "metadata": {
    "slideshow": {
     "slide_type": "slide"
    }
   },
   "source": [
    "## Example 2: CMD Analysis with AstroQuery and Pandas"
   ]
  },
  {
   "cell_type": "code",
   "execution_count": 1,
   "metadata": {},
   "outputs": [
    {
     "name": "stderr",
     "output_type": "stream",
     "text": [
      "/Users/mjuric/anaconda3/lib/python3.6/site-packages/astroquery/sdss/__init__.py:29: UserWarning: Experimental: SDSS has not yet been refactored to have its API match the rest of astroquery (but it's nearly there).\n",
      "  warnings.warn(\"Experimental: SDSS has not yet been refactored to have its API \"\n"
     ]
    }
   ],
   "source": [
    "import numpy as np\n",
    "import pandas as pd\n",
    "from astroquery.sdss import SDSS"
   ]
  },
  {
   "cell_type": "markdown",
   "metadata": {
    "slideshow": {
     "slide_type": "slide"
    }
   },
   "source": [
    "Let's begin by defining a useful function to grab data from anywhere in the sky, and plot a CMD:"
   ]
  },
  {
   "cell_type": "code",
   "execution_count": 2,
   "metadata": {
    "collapsed": true
   },
   "outputs": [],
   "source": [
    "def get_sdss_cmd_data(ra, dec, radius=60):\n",
    "    query = \"\"\"\n",
    "    SELECT\n",
    "      s.ra, s.dec,\n",
    "      s.dered_g as g, s.dered_r as r,\n",
    "      s.err_g, s.err_r,\n",
    "      s.flags\n",
    "\n",
    "    FROM\n",
    "      dbo.fGetNearbyObjEq({ra}, {dec}, {radius}) AS n\n",
    "      JOIN Star AS s ON n.objID = s.objID\n",
    "    \"\"\".format(ra=ra, dec=dec, radius=radius)\n",
    "    return pd.DataFrame(SDSS.query_sql(query, timeout=600).as_array())\n",
    "\n",
    "field1 = get_sdss_cmd_data(341.6, 31.7, 60)\n",
    "field2 = get_sdss_cmd_data(115.2, 32.7, 60)"
   ]
  },
  {
   "cell_type": "markdown",
   "metadata": {
    "slideshow": {
     "slide_type": "slide"
    }
   },
   "source": [
    "Clean up the dataset -- remove all entries outside of the physically sensible range of colors and magnitudes: $-0.5 < gr < 2.5$ and $14 < g < 24$"
   ]
  },
  {
   "cell_type": "code",
   "execution_count": 3,
   "metadata": {
    "collapsed": true
   },
   "outputs": [],
   "source": [
    "def cleanup(field):\n",
    "   return (\n",
    "       field\n",
    "       .assign(gr = lambda df: df.g - df.r)\n",
    "       .query('-0.5 < gr < 2.5 and 14 < g < 24')\n",
    "   )\n",
    "\n",
    "res1 = cleanup(field1)\n",
    "res2 = cleanup(field2)"
   ]
  },
  {
   "cell_type": "markdown",
   "metadata": {
    "slideshow": {
     "slide_type": "slide"
    }
   },
   "source": [
    "Visualize:"
   ]
  },
  {
   "cell_type": "code",
   "execution_count": 23,
   "metadata": {},
   "outputs": [
    {
     "data": {
      "application/vnd.jupyter.widget-view+json": {
       "model_id": "80de29f0494448f186363a2fbf8cf568",
       "version_major": 2,
       "version_minor": 0
      },
      "text/plain": [
       "A Jupyter Widget"
      ]
     },
     "metadata": {},
     "output_type": "display_data"
    },
    {
     "data": {
      "text/plain": [
       "<function visutils.hess_plot>"
      ]
     },
     "execution_count": 23,
     "metadata": {},
     "output_type": "execute_result"
    }
   ],
   "source": [
    "%matplotlib inline\n",
    "import visutils\n",
    "do_vis = lambda df: visutils.interactive_hess(df.g, df.gr)\n",
    "\n",
    "do_vis(res2)"
   ]
  },
  {
   "cell_type": "markdown",
   "metadata": {
    "slideshow": {
     "slide_type": "slide"
    }
   },
   "source": [
    "Try to estimate the location of the main sequence turnoff by plotting the histogram of all stars having $0.2 < g-r < 0.3$"
   ]
  },
  {
   "cell_type": "code",
   "execution_count": 7,
   "metadata": {},
   "outputs": [
    {
     "data": {
      "text/plain": [
       "<matplotlib.lines.Line2D at 0x11cfaae10>"
      ]
     },
     "execution_count": 7,
     "metadata": {},
     "output_type": "execute_result"
    },
    {
     "data": {
      "image/png": "[encoded data removed]",
      "text/plain": [
       "<matplotlib.figure.Figure at 0x11f130908>"
      ]
     },
     "metadata": {},
     "output_type": "display_data"
    }
   ],
   "source": [
    "( res2\n",
    "     .query('0.2 < gr < 0.3')\n",
    "     .g\n",
    "     .hist(bins=75)\n",
    "     .axvline(18.5, color='red')\n",
    ")"
   ]
  },
  {
   "cell_type": "markdown",
   "metadata": {
    "slideshow": {
     "slide_type": "slide"
    }
   },
   "source": [
    "Main sequence turn-off stars have absolute $g$-band magnitudes of around $M_g \\sim 3.5$. Given that, and the magnitude of the main sequence turnoff, compute the distance of the feature (in parsecs):"
   ]
  },
  {
   "cell_type": "code",
   "execution_count": 17,
   "metadata": {
    "scrolled": true
   },
   "outputs": [
    {
     "name": "stdout",
     "output_type": "stream",
     "text": [
      "10000.0 parsecs\n"
     ]
    }
   ],
   "source": [
    "absMSTO=3.5\n",
    "d = 10**((18.5 - absMSTO)/5. + 1.)\n",
    "print(\"{} parsecs\".format(d))"
   ]
  },
  {
   "cell_type": "markdown",
   "metadata": {
    "slideshow": {
     "slide_type": "slide"
    }
   },
   "source": [
    "The left (\"blue\") edge of the observed CMD feature appears bluer than the edge of the somewhat brighter main sequence stars.\n",
    "\n",
    "Let's quantitatively verify that this is the case, by plotting and comparing the $g-r$ histograms of all stars in a 1-magnitude wide bin around $g=17$ and $g=19$."
   ]
  },
  {
   "cell_type": "code",
   "execution_count": 18,
   "metadata": {},
   "outputs": [
    {
     "data": {
      "application/vnd.jupyter.widget-view+json": {
       "model_id": "2e54e0f59903460284341d2f2c086037",
       "version_major": 2,
       "version_minor": 0
      },
      "text/plain": [
       "A Jupyter Widget"
      ]
     },
     "metadata": {},
     "output_type": "display_data"
    },
    {
     "data": {
      "text/plain": [
       "<function visutils.hess_plot>"
      ]
     },
     "execution_count": 18,
     "metadata": {},
     "output_type": "execute_result"
    }
   ],
   "source": [
    "do_vis(res2)"
   ]
  },
  {
   "cell_type": "code",
   "execution_count": 19,
   "metadata": {
    "slideshow": {
     "slide_type": "slide"
    }
   },
   "outputs": [
    {
     "data": {
      "image/png": "[encoded data removed]",
      "text/plain": [
       "<matplotlib.figure.Figure at 0x11ee9db70>"
      ]
     },
     "metadata": {},
     "output_type": "display_data"
    }
   ],
   "source": [
    "# Extract the data for the two apparent magnitude slices\n",
    "v = (\n",
    "    res2[['g', 'gr']]\n",
    "    .assign(gbinned = lambda df: df.g.round())\n",
    "    .query('(gbinned == 17 or gbinned == 19) and (0 < gr < 1.5)')\n",
    ")\n",
    "ax = v.gr.hist(by=v['gbinned'], bins=100, alpha=.5, figsize=(12, 8), layout=(2, 1))\n",
    "for a in ax:\n",
    "    a.axvline(0.3, color='red')\n",
    "    a.axvline(0.22, color='blue')"
   ]
  },
  {
   "cell_type": "markdown",
   "metadata": {},
   "source": [
    "The turnoff truly is bluer, by about 0.1 magnitudes!"
   ]
  },
  {
   "cell_type": "markdown",
   "metadata": {
    "slideshow": {
     "slide_type": "slide"
    }
   },
   "source": [
    "This is the gist of the analysis performed to characterize the \"Monoceros Stream\":"
   ]
  },
  {
   "cell_type": "markdown",
   "metadata": {},
   "source": [
    "![Newberg2002.jpg](figures/Newberg2002.jpg)"
   ]
  }
 ],
 "metadata": {
  "celltoolbar": "Slideshow",
  "kernelspec": {
   "display_name": "Python 3",
   "language": "python",
   "name": "python3"
  },
  "language_info": {
   "codemirror_mode": {
    "name": "ipython",
    "version": 3
   },
   "file_extension": ".py",
   "mimetype": "text/x-python",
   "name": "python",
   "nbconvert_exporter": "python",
   "pygments_lexer": "ipython3",
   "version": "3.6.3"
  },
  "livereveal": {
   "scroll": true,
   "start_slideshow_at": "selected"
  }
 },
 "nbformat": 4,
 "nbformat_minor": 2
}
