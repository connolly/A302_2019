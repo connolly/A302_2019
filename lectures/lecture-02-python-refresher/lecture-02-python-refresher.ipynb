{
 "cells": [
  {
   "cell_type": "markdown",
   "metadata": {
    "slideshow": {
     "slide_type": "subslide"
    }
   },
   "source": [
    "How to turn this notebook into slides? Run:\n",
    "```\n",
    "$ ipython nbconvert --to slides lecture.ipynb  --post serve\n",
    "```\n",
    "OR (better), install the RISE Jupyter extension:\n",
    "```\n",
    "conda install -c damianavila82 rise\n",
    "```\n",
    "and hit the 'Slideshow' toolbar button."
   ]
  },
  {
   "cell_type": "markdown",
   "metadata": {
    "slideshow": {
     "slide_type": "skip"
    }
   },
   "source": [
    "This notebook uses the [python-markdown](http://jupyter-contrib-nbextensions.readthedocs.io/en/latest/nbextensions/python-markdown/readme.html) extension, allowing it to run code inline with Markdown text.\n",
    "\n",
    "To install this extension, and the [configurator GUI](https://github.com/Jupyter-contrib/jupyter_nbextensions_configurator), while Jupyter is ***not*** running run:\n",
    "```bash\n",
    "conda install -c defaults -c conda-forge jupyter_contrib_nbextensions\n",
    "conda install -c defaults -c conda-forge jupyter_nbextensions_configurator\n",
    "```\n",
    "and then enable python-markdown in the `Nbextensions` tab that will show up next time you start Jupyter."
   ]
  },
  {
   "cell_type": "markdown",
   "metadata": {
    "slideshow": {
     "slide_type": "skip"
    }
   },
   "source": [
    "To have the markup in all cells show up in this notebook, you need to mark it as 'Trusted'. The notebook will be marked as trusted once you re-evaluate all cells."
   ]
  },
  {
   "cell_type": "markdown",
   "metadata": {},
   "source": [
    "### Check out the github code https://github.com/connolly/A302_2019 onto your machine"
   ]
  },
  {
   "cell_type": "markdown",
   "metadata": {
    "slideshow": {
     "slide_type": "skip"
    }
   },
   "source": [
    "Some helper functions to make it easier to show code listings."
   ]
  },
  {
   "cell_type": "code",
   "execution_count": 1,
   "metadata": {
    "slideshow": {
     "slide_type": "skip"
    }
   },
   "outputs": [],
   "source": [
    "def show_code_listing(fn):\n",
    "    from IPython.display import display, Markdown\n",
    "    return Markdown( '```python\\n{}\\n```'.format(open(fn).read()))\n",
    "\n",
    "def execute_and_show(cmdline):\n",
    "    from IPython.display import display, Markdown\n",
    "    res = ! $cmdline\n",
    "    res = '\\n'.join(['    ' + line for line in res])\n",
    "    print('```bash\\n    ${}\\n{}\\n```'.format(cmdline, res))"
   ]
  },
  {
   "cell_type": "markdown",
   "metadata": {
    "slideshow": {
     "slide_type": "slide"
    }
   },
   "source": [
    "# A Walk Through Python\n",
    "\n",
    "In this lecture we will work through a series of hands-on exercizes to (re-)familiarize ourselves with Python.\n",
    "\n",
    "We'll learn by doing:\n",
    "\n",
    "0. Read up on the general topic __in advance__ of the class, so that in class we can:\n",
    "1. Define a problem needing a solution.\n",
    "2. Write a short Python program that solves it.\n",
    "3. Discuss the result.\n",
    "\n",
    "We'll divide into small teams, and then each team will work on a solution."
   ]
  },
  {
   "cell_type": "markdown",
   "metadata": {
    "slideshow": {
     "slide_type": "slide"
    }
   },
   "source": [
    "## A Pragmatic Approach to Programming\n",
    "\n",
    "I prefer a _pragmatic_ approach to solving programming problems (more accurately: how to solve _research_ problems by programming). Your first task is not to re-invent the wheel -- seek out existing solutions to your problem, and adopt them as much as you can. The literature is your friend.\n",
    "\n",
    "Some \"what should I do in this situation\" examples:\n",
    "\n",
    "* \"Hmm, I'm not familiar with that concept...\" &nbsp; => &nbsp; Google it first.\n",
    "* \"Has anyone already done this?\" &nbsp; => &nbsp; Google for something similar. Copy it (but ***respect the license!***). Modify to make it work for you.\n",
    "* \"Where is the best place to look?\" &nbsp; Stackoverflow [https://stackoverflow.com/questions/tagged/python]\n",
    "* \"Let me try a prototype to understand the problem better.\" &nbsp; => &nbsp; It's OK to take a stab; you'll probably rewrite it anyway.\n",
    "* \"What's that function `foo()` again?\" &nbsp; => &nbsp; Google, or use Python's `help()` or `?` system\n",
    "* \"I should really talk to someone...\" &nbsp; => &nbsp; When you get stuck, it's OK to discuss problems.\n",
    "\n",
    "Knowing how to discover information is a key part in being effective in programming problems in research."
   ]
  },
  {
   "cell_type": "markdown",
   "metadata": {
    "slideshow": {
     "slide_type": "slide"
    }
   },
   "source": [
    "## How to approach problems\n",
    "\n",
    "1. Make sure you understand the problem (i.e., ask questions if something's not clear).\n",
    "2. Use search engines, documentation, books to learn what you need to develop a solution\n",
    "3. Develop a solution\n",
    "\n",
    "... and do the above _iteratively_ (i.e., there may be a first prototype, followed by by more questions/understanding of what needs to be done, followed by more learning, followed by the next prototype, etc.)"
   ]
  },
  {
   "cell_type": "markdown",
   "metadata": {
    "slideshow": {
     "slide_type": "slide"
    },
    "variables": {
     " execute_and_show('./prog1.py') ": "<pre><code class=\"cm-s-ipython language-bash\">    $./prog1.py\n    Hello world!\n</code></pre>\n"
    }
   },
   "source": [
    "## Problem 1: Hello World!\n",
    "\n",
    "Write a Python program that one can run on the command line and that results in:\n",
    "{{ execute_and_show('./prog1.py') }}"
   ]
  },
  {
   "cell_type": "markdown",
   "metadata": {
    "slideshow": {
     "slide_type": "subslide"
    }
   },
   "source": [
    "## Implementation"
   ]
  },
  {
   "cell_type": "code",
   "execution_count": 2,
   "metadata": {},
   "outputs": [
    {
     "data": {
      "text/markdown": [
       "```python\n",
       "#!/usr/bin/env python\n",
       "\n",
       "print (\"Hello world!\")\n",
       "\n",
       "```"
      ],
      "text/plain": [
       "<IPython.core.display.Markdown object>"
      ]
     },
     "execution_count": 2,
     "metadata": {},
     "output_type": "execute_result"
    }
   ],
   "source": [
    "show_code_listing(\"prog1.py\")"
   ]
  },
  {
   "cell_type": "markdown",
   "metadata": {
    "collapsed": true
   },
   "source": [
    "Discussion:\n",
    "* We specify the interpreter with the `#!` line.\n",
    "* The file must be marked as executable to run (`chmod +x prog1.py`)\n",
    "* Use the `print()` function to show output."
   ]
  },
  {
   "cell_type": "code",
   "execution_count": 3,
   "metadata": {},
   "outputs": [
    {
     "name": "stdout",
     "output_type": "stream",
     "text": [
      "```bash\n",
      "    $./prog1.py\n",
      "    Hello world!\n",
      "```\n"
     ]
    }
   ],
   "source": [
    "execute_and_show('./prog1.py')"
   ]
  },
  {
   "cell_type": "markdown",
   "metadata": {
    "slideshow": {
     "slide_type": "slide"
    },
    "variables": {
     " execute_and_show('./prog2.py foo bar') ": "<pre><code class=\"cm-s-ipython language-bash\">    $./prog2.py foo bar\n    [&#39;./prog2.py&#39;, &#39;foo&#39;, &#39;bar&#39;]\n</code></pre>\n"
    }
   },
   "source": [
    "## Problem 2: Print All Arguments\n",
    "\n",
    "Now modify that code to write out the command line arguments, including the name of the program. For example:\n",
    "{{ execute_and_show('./prog2.py foo bar') }}"
   ]
  },
  {
   "cell_type": "markdown",
   "metadata": {
    "slideshow": {
     "slide_type": "subslide"
    }
   },
   "source": [
    "## Implementation"
   ]
  },
  {
   "cell_type": "code",
   "execution_count": 4,
   "metadata": {
    "scrolled": true
   },
   "outputs": [
    {
     "data": {
      "text/markdown": [
       "```python\n",
       "#!/usr/bin/env python\n",
       "\n",
       "import sys\n",
       "\n",
       "print (sys.argv)\n",
       "\n",
       "# Better:\n",
       "# print ' '.join(sys.argv)\n",
       "\n",
       "```"
      ],
      "text/plain": [
       "<IPython.core.display.Markdown object>"
      ]
     },
     "execution_count": 4,
     "metadata": {},
     "output_type": "execute_result"
    }
   ],
   "source": [
    "show_code_listing(\"prog2.py\")"
   ]
  },
  {
   "cell_type": "code",
   "execution_count": 5,
   "metadata": {},
   "outputs": [
    {
     "name": "stdout",
     "output_type": "stream",
     "text": [
      "```bash\n",
      "    $./prog2.py 1 2 3 house dog horse 5 6\n",
      "    ['./prog2.py', '1', '2', '3', 'house', 'dog', 'horse', '5', '6']\n",
      "```\n"
     ]
    }
   ],
   "source": [
    "execute_and_show('./prog2.py 1 2 3 house dog horse 5 6')"
   ]
  },
  {
   "cell_type": "markdown",
   "metadata": {},
   "source": [
    "Run prog2.py as a commandline program and provide it with a set of arguments. Then try to execute as `execute_and_show('prog2.py 1 2 3 4 5'`"
   ]
  },
  {
   "cell_type": "markdown",
   "metadata": {
    "collapsed": true
   },
   "source": [
    "Discussion:\n",
    "* The basic Python programming language is fairly small ([only 33, as of Python 3.6](https://docs.python.org/3.6/reference/lexical_analysis.html#keywords)). Most of the functionality available through _modules_; libraries of useful routines that come shipped with the language. The `sys` module contains routines to interact with the system; it's also where `sys.argv` variable is, which contains the list of command-line arguments passed to a program.\n",
    "* When we printed it out, we simply passed `sys.argv` (which is a Python `list`) to `print()`, which automatically converted it to a string. We could've made the output prettier by using the [`str.join`](https://docs.python.org/3/library/stdtypes.html#str.join) method."
   ]
  },
  {
   "cell_type": "markdown",
   "metadata": {
    "slideshow": {
     "slide_type": "slide"
    },
    "variables": {
     " execute_and_show('./prog3.py 2 3') ": "<pre><code class=\"cm-s-ipython language-bash\">    $./prog3.py 2 3\n    5.0\n</code></pre>\n"
    }
   },
   "source": [
    "## Problem 3: Add Two Numbers\n",
    "\n",
    "Now modify that code to write sum two command line arguments. For example:\n",
    "{{ execute_and_show('./prog3.py 2 3') }}"
   ]
  },
  {
   "cell_type": "markdown",
   "metadata": {
    "slideshow": {
     "slide_type": "subslide"
    }
   },
   "source": [
    "## Implementation"
   ]
  },
  {
   "cell_type": "code",
   "execution_count": 6,
   "metadata": {},
   "outputs": [
    {
     "data": {
      "text/markdown": [
       "```python\n",
       "#!/usr/bin/env python\n",
       "\n",
       "import sys\n",
       "\n",
       "a = float(sys.argv[1])\n",
       "b = float(sys.argv[2])\n",
       "\n",
       "print (a + b)\n",
       "\n",
       "```"
      ],
      "text/plain": [
       "<IPython.core.display.Markdown object>"
      ]
     },
     "execution_count": 6,
     "metadata": {},
     "output_type": "execute_result"
    }
   ],
   "source": [
    "show_code_listing(\"prog3.py\")"
   ]
  },
  {
   "cell_type": "markdown",
   "metadata": {
    "collapsed": true,
    "slideshow": {
     "slide_type": "-"
    }
   },
   "source": [
    "Discussion:\n",
    "* The command line arguments found in `sys.argv` are _strings_ (Python's `str` type). Adding two strings with the `+` operator would just concatenate them; we have to convert them to floating point numbers first using the `float` routine."
   ]
  },
  {
   "cell_type": "markdown",
   "metadata": {
    "slideshow": {
     "slide_type": "slide"
    },
    "variables": {
     " execute_and_show('./prog3.py 2 x') ": "<pre><code class=\"cm-s-ipython language-bash\">    $./prog3.py 2 x\n    Traceback (most recent call last):\n      File &quot;./prog3.py&quot;, line 6, in &lt;module&gt;\n        b = float(sys.argv[2])\n    ValueError: could not convert string to float: &#39;x&#39;\n</code></pre>\n",
     " execute_and_show('./prog4.py 2 x') ": "<pre><code class=\"cm-s-ipython language-bash\">    $./prog4.py 2 x\n    Error: the second argument must be a number\n\n    Usage: ./prog4.py &lt;arg1&gt; &lt;arg2&gt;\n</code></pre>\n",
     " execute_and_show('./prog4.py 2') ": "<pre><code class=\"cm-s-ipython language-bash\">    $./prog4.py 2\n    Error: two arguments required.\n\n    Usage: ./prog4.py &lt;arg1&gt; &lt;arg2&gt;\n</code></pre>\n"
    }
   },
   "source": [
    "## Problem 4: Making the code user friendly\n",
    "\n",
    "When we enter an argument that's not a number:\n",
    "{{ execute_and_show('./prog3.py 2 x') }}\n",
    "It would be nicer to check for the number and type of arguments, and get a user-friendly error message if either are incorrect:\n",
    "{{ execute_and_show('./prog4.py 2 x') }}\n",
    "{{ execute_and_show('./prog4.py 2') }}"
   ]
  },
  {
   "cell_type": "markdown",
   "metadata": {
    "slideshow": {
     "slide_type": "subslide"
    }
   },
   "source": [
    "## Implementation v1"
   ]
  },
  {
   "cell_type": "code",
   "execution_count": 7,
   "metadata": {
    "scrolled": false,
    "slideshow": {
     "slide_type": "-"
    }
   },
   "outputs": [
    {
     "data": {
      "text/markdown": [
       "```python\n",
       "#!/usr/bin/env python\n",
       "\n",
       "import sys\n",
       "import re\n",
       "\n",
       "isNumber = '^[1-9][0-9]*\\.?[0-9]*([Ee][+-]?[0-9]+)?$';\n",
       "\n",
       "if len(sys.argv) != 3:\n",
       "    print(\"Error: two arguments required.\")\n",
       "    print(\"\")\n",
       "    print(\"Usage: {} <arg1> <arg2>\".format(sys.argv[0]))\n",
       "    exit(0)\n",
       "\n",
       "if not re.search(isNumber, sys.argv[1]):\n",
       "    print(\"Error: the first argument must be a number\")\n",
       "    print(\"\")\n",
       "    print(\"Usage: {} <arg1> <arg2>\".format(sys.argv[0]))\n",
       "    exit(0)\n",
       "\n",
       "if not re.search(isNumber, sys.argv[2]):\n",
       "    print(\"Error: the second argument must be a number\")\n",
       "    print(\"\")\n",
       "    print(\"Usage: {} <arg1> <arg2>\".format(sys.argv[0]))\n",
       "    exit(0)\n",
       "\n",
       "a = float(sys.argv[1])\n",
       "b = float(sys.argv[2])\n",
       "\n",
       "print (a + b)\n",
       "\n",
       "```"
      ],
      "text/plain": [
       "<IPython.core.display.Markdown object>"
      ]
     },
     "execution_count": 7,
     "metadata": {},
     "output_type": "execute_result"
    }
   ],
   "source": [
    "show_code_listing(\"prog4.py\")"
   ]
  },
  {
   "cell_type": "markdown",
   "metadata": {
    "collapsed": true
   },
   "source": [
    "Discussion:\n",
    "* We encounter our first [flow control](https://docs.python.org/3/tutorial/controlflow.html) statement -- `if`. It allows us to choose which path to take based on the result of evaluating a _condition_.\n",
    "* I checked whether there are two arguments by using the `len()` built-in function that returns the length of the list. Note that the `sys.argv` list includes the name of the program; thus testing for `3` instead of `2`.\n",
    "* I used [Python regular expressions](https://docs.python.org/3.4/library/re.html) to check for the format of each string, before attempting to convert them to a floating point number.\n",
    "\n",
    "To learn about and test regular expressions try out the following page [freeformatter](https://www.freeformatter.com/regex-tester.html)"
   ]
  },
  {
   "cell_type": "code",
   "execution_count": 8,
   "metadata": {},
   "outputs": [
    {
     "name": "stdout",
     "output_type": "stream",
     "text": [
      "```bash\n",
      "    $./prog4.py 1.23E-10 10\n",
      "    10.000000000123\n",
      "```\n"
     ]
    }
   ],
   "source": [
    "execute_and_show('./prog4.py 1.23E-10 10')"
   ]
  },
  {
   "cell_type": "markdown",
   "metadata": {},
   "source": [
    "### Group Work:\n",
    "\n",
    "My implementation above has lots of repetition (e.g., the same usage string is printed out three times). We know that functions are a way to avoid excessive repetition. Python functions have the following form:\n",
    "\n",
    "```python\n",
    "def func_name(a, b, c, d):\n",
    "    ... function body ...\n",
    "    return some_value\n",
    "```\n",
    "\n",
    "Let's change my implementation so it minimizes repetition by using functions. Identify repetitive parts and [refactor](https://en.wikipedia.org/wiki/Code_refactoring) them into functions."
   ]
  },
  {
   "cell_type": "markdown",
   "metadata": {
    "slideshow": {
     "slide_type": "subslide"
    }
   },
   "source": [
    "## Implementation v2"
   ]
  },
  {
   "cell_type": "code",
   "execution_count": 9,
   "metadata": {},
   "outputs": [
    {
     "data": {
      "text/markdown": [
       "```python\n",
       "#!/usr/bin/env python\n",
       "\n",
       "import sys\n",
       "import re\n",
       "\n",
       "def exit_with_usage():\n",
       "    \"\"\" Prints a usage message and exits the program. \"\"\"\n",
       "    print(\"\")\n",
       "    print(\"Usage: {} <arg1> <arg2>\".format(sys.argv[0]))\n",
       "    exit(0)\n",
       "\n",
       "def number_or_exit(s, msg):\n",
       "    \"\"\" Test if argument s is a number, abort execution otherwise. \"\"\"\n",
       "    isNumber = r'^[1-9][0-9]*\\.?[0-9]*([Ee][+-]?[0-9]+)?$';\n",
       "\n",
       "    if not re.search(isNumber, s):\n",
       "        print(\"Error: the {} argument must be a number\".format(msg))\n",
       "        exit_with_usage()\n",
       "\n",
       "#### The main program begins here\n",
       "\n",
       "if len(sys.argv) != 3:\n",
       "    print(\"Error: two arguments required.\")\n",
       "    exit_with_usage()\n",
       "\n",
       "number_or_exit(sys.argv[1], 'first')\n",
       "number_or_exit(sys.argv[2], 'second')\n",
       "\n",
       "a = float(sys.argv[1])\n",
       "b = float(sys.argv[2])\n",
       "\n",
       "print (a + b)\n",
       "\n",
       "```"
      ],
      "text/plain": [
       "<IPython.core.display.Markdown object>"
      ]
     },
     "execution_count": 9,
     "metadata": {},
     "output_type": "execute_result"
    }
   ],
   "source": [
    "show_code_listing(\"prog5.py\")"
   ]
  },
  {
   "cell_type": "markdown",
   "metadata": {},
   "source": [
    "Discussion:\n",
    "* The previous implementatio had a lot of repeating code. That is a tell-tale sign of code that needs to be [refactored](https://en.wikipedia.org/wiki/Code_refactoring) into functions.\n",
    "* Python function definitions begin with `def`, followed by name, the argument list, and then the indented body of the function."
   ]
  },
  {
   "cell_type": "markdown",
   "metadata": {
    "slideshow": {
     "slide_type": "subslide"
    }
   },
   "source": [
    "## Implementation v3"
   ]
  },
  {
   "cell_type": "code",
   "execution_count": 10,
   "metadata": {
    "scrolled": false
   },
   "outputs": [
    {
     "data": {
      "text/markdown": [
       "```python\n",
       "#!/usr/bin/env python\n",
       "\n",
       "import sys\n",
       "import re\n",
       "\n",
       "def exit_with_usage():\n",
       "    \"\"\" Prints a usage message and exits the program. \"\"\"\n",
       "    print(\"\")\n",
       "    print(\"Usage: {} <arg1> <arg2>\".format(sys.argv[0]))\n",
       "    exit(0)\n",
       "\n",
       "def number_or_exit(s, msg):\n",
       "    \"\"\" Test if argument s is a number, abort execution otherwise. \"\"\"\n",
       "    isNumber = r'^[1-9][0-9]*\\.?[0-9]*([Ee][+-]?[0-9]+)?$';\n",
       "\n",
       "    if not re.search(isNumber, s):\n",
       "        print(\"Error: the {} argument must be a number\".format(msg))\n",
       "        exit_with_usage()\n",
       "\n",
       "#### The main program begins here\n",
       "\n",
       "if len(sys.argv) != 3:\n",
       "    print(\"Error: two arguments required.\")\n",
       "    exit_with_usage()\n",
       "\n",
       "msg = ['first', 'second']\n",
       "for i in range(0, 2):\n",
       "    number_or_exit(sys.argv[i + 1], msg[i])\n",
       "\n",
       "a = float(sys.argv[1])\n",
       "b = float(sys.argv[2])\n",
       "\n",
       "print (a + b)\n",
       "\n",
       "```"
      ],
      "text/plain": [
       "<IPython.core.display.Markdown object>"
      ]
     },
     "execution_count": 10,
     "metadata": {},
     "output_type": "execute_result"
    }
   ],
   "source": [
    "show_code_listing(\"prog6.py\")"
   ]
  },
  {
   "cell_type": "markdown",
   "metadata": {
    "collapsed": true
   },
   "source": [
    "Discussion:\n",
    "* We can further streamline the code by using a `for`-loop. Python for loops iterate over _iterables_ -- a generalization of lists, arrays, and ranges. Think of these objects as sequences that return a value one by one in each iteration of the loop. In this case, we used a `range()` sequence, that returns numbers starting with the first argument, and finishing before the last argument is reached."
   ]
  },
  {
   "cell_type": "markdown",
   "metadata": {
    "slideshow": {
     "slide_type": "subslide"
    }
   },
   "source": [
    "## Implementation v4"
   ]
  },
  {
   "cell_type": "code",
   "execution_count": 11,
   "metadata": {
    "scrolled": false
   },
   "outputs": [
    {
     "data": {
      "text/markdown": [
       "```python\n",
       "#!/usr/bin/env python\n",
       "\n",
       "import sys\n",
       "import re\n",
       "\n",
       "def exit_with_usage():\n",
       "    \"\"\" Prints a usage message and exits the program. \"\"\"\n",
       "    print(\"\")\n",
       "    print(\"Usage: {} <arg1> <arg2>\".format(sys.argv[0]))\n",
       "    exit(0)\n",
       "\n",
       "def number_or_exit(s, msg):\n",
       "    \"\"\" Test if argument s is a number, abort execution otherwise. \"\"\"\n",
       "    isNumber = r'^[1-9][0-9]*\\.?[0-9]*([Ee][+-]?[0-9]+)?$';\n",
       "\n",
       "    if not re.search(isNumber, s):\n",
       "        print(\"Error: the {} argument must be a number\".format(msg))\n",
       "        exit_with_usage()\n",
       "\n",
       "#### The main program begins here\n",
       "\n",
       "if len(sys.argv) != 3:\n",
       "    print(\"Error: two arguments required.\")\n",
       "    exit_with_usage()\n",
       "\n",
       "for (s, msg) in zip(sys.argv[1:], ['first', 'second']):\n",
       "    number_or_exit(s, msg)\n",
       "\n",
       "a = float(sys.argv[1])\n",
       "b = float(sys.argv[2])\n",
       "\n",
       "print (a + b)\n",
       "\n",
       "```"
      ],
      "text/plain": [
       "<IPython.core.display.Markdown object>"
      ]
     },
     "execution_count": 11,
     "metadata": {},
     "output_type": "execute_result"
    }
   ],
   "source": [
    "show_code_listing(\"prog7.py\")"
   ]
  },
  {
   "cell_type": "markdown",
   "metadata": {
    "collapsed": true,
    "slideshow": {
     "slide_type": "subslide"
    }
   },
   "source": [
    "Discussion:\n",
    "* The structure of the `for`-loop in the previous example is familiar to you if you're coming from C or FORTRAN. But it's not a \"Pythonic\" way to do things. In Python, we'd prefer to iterate not over indices of the list, but over the list itself. For example, compare the readability of:\n",
    "\n",
    "```python\n",
    "    arr = ['a', 'b', 'c']\n",
    "    for i in range(0, len(arr)):\n",
    "        print(arr[i])\n",
    "```\n",
    "\n",
    "to\n",
    "\n",
    "```python\n",
    "    arr = ['a', 'b', 'c']\n",
    "    for val in arr:\n",
    "        print(val)\n",
    "```\n",
    "\n",
    "* A difficulty in the example above is that we're actually iterating over _two_ lists, not one. Fortunately, Python's `zip` function will \"zip\" the elements of two lists into pairs."
   ]
  },
  {
   "cell_type": "markdown",
   "metadata": {},
   "source": [
    "## Python Modules to help with argument passing \n",
    "\n",
    "argparse [https://docs.python.org/3.7/howto/argparse.html]\n",
    "\n",
    " - will read in a general set of arguments and enables you to parse them \n",
    " - if you make an error it will exit and return the help string\n",
    " - if you want to know the number of arguments you can pass the `-h` flag to list all of the required arguments\n",
    "\n",
    "```\n",
    "$  ./prog8.py  -h\n",
    "usage: prog8.py [-h] float_1 float_2\n",
    "\n",
    "Read in some entries and add them.\n",
    "\n",
    "positional arguments:\n",
    "  float_1     a float\n",
    "  float_2     another float\n",
    "\n",
    "optional arguments:\n",
    "  -h, --help  show this help message and exit\n",
    "```"
   ]
  },
  {
   "cell_type": "code",
   "execution_count": 5,
   "metadata": {},
   "outputs": [
    {
     "name": "stdout",
     "output_type": "stream",
     "text": [
      "```bash\n",
      "    $./prog8.py -h\n",
      "    usage: prog8.py [-h] float_1 float_2\n",
      "    \n",
      "    Read in some entries and add them.\n",
      "    \n",
      "    positional arguments:\n",
      "      float_1     a float\n",
      "      float_2     another float\n",
      "    \n",
      "    optional arguments:\n",
      "      -h, --help  show this help message and exit\n",
      "```\n"
     ]
    }
   ],
   "source": [
    "execute_and_show('./prog8.py -h')"
   ]
  },
  {
   "cell_type": "code",
   "execution_count": 6,
   "metadata": {},
   "outputs": [
    {
     "data": {
      "text/markdown": [
       "```python\n",
       "#!/usr/bin/env python\n",
       "\n",
       "import argparse\n",
       "\n",
       "# Create a parser object and add the arguments that are part of the program\n",
       "parser = argparse.ArgumentParser(description='Read in some entries and add them.')\n",
       "\n",
       "parser.add_argument('a', metavar='float_1', type=float, help='a float')\n",
       "parser.add_argument('b', metavar='float_2', type=float, help='another float')\n",
       "\n",
       "# return an object with all of the arguments\n",
       "args = parser.parse_args()\n",
       "\n",
       "print (args.a + args.b)\n",
       "\n",
       "```"
      ],
      "text/plain": [
       "<IPython.core.display.Markdown object>"
      ]
     },
     "execution_count": 6,
     "metadata": {},
     "output_type": "execute_result"
    }
   ],
   "source": [
    "show_code_listing(\"prog8.py\")"
   ]
  },
  {
   "cell_type": "markdown",
   "metadata": {
    "slideshow": {
     "slide_type": "skip"
    }
   },
   "source": [
    "## Reading for Wednesday\n",
    "\n",
    "On Wednesday we're going to talk more about Python dicts, list comprehensions, modules and object oriented programming. **Please skim through these in time for the next class** (it should take you ~2-3 hours):\n",
    "\n",
    "* List comprehensions:\n",
    "  * http://www.secnetix.de/olli/Python/list_comprehensions.hawk\n",
    "  * http://www.pythonforbeginners.com/basics/list-comprehensions-in-python\n",
    "  * http://treyhunner.com/2015/12/python-list-comprehensions-now-in-color/\n",
    "  * Learning Python, Chapter 14\n",
    "\n",
    "\n",
    "* Dictionaries:\n",
    "  * https://www.python-course.eu/dictionaries.php\n",
    "  * http://introtopython.org/dictionaries.html\n",
    "  * Learning Python, Chapter 8\n",
    "\n",
    "\n",
    "* Modules:\n",
    "  * https://docs.python.org/3/tutorial/modules.html\n",
    "  * Learning Python, Chapter 22\n",
    "  * Learning Python, Chapter 23 (through \"Module Usage”).\n",
    "\n",
    "\n",
    "* Python Classes/Objects:\n",
    "  * https://jeffknupp.com/blog/2014/06/18/improve-your-python-python-classes-and-object-oriented-programming/ (you can stop at 'Inheritance' for now)\n",
    "  * Learning Python, Chapter 26\n"
   ]
  },
  {
   "cell_type": "code",
   "execution_count": null,
   "metadata": {},
   "outputs": [],
   "source": []
  }
 ],
 "metadata": {
  "celltoolbar": "Slideshow",
  "kernelspec": {
   "display_name": "Python 3",
   "language": "python",
   "name": "python3"
  },
  "language_info": {
   "codemirror_mode": {
    "name": "ipython",
    "version": 3
   },
   "file_extension": ".py",
   "mimetype": "text/x-python",
   "name": "python",
   "nbconvert_exporter": "python",
   "pygments_lexer": "ipython3",
   "version": "3.6.8"
  },
  "livereveal": {
   "scroll": true,
   "start_slideshow_at": "selected"
  }
 },
 "nbformat": 4,
 "nbformat_minor": 2
}
