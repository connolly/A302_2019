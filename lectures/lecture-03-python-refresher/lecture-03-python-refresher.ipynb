{
 "cells": [
  {
   "cell_type": "markdown",
   "metadata": {
    "slideshow": {
     "slide_type": "skip"
    }
   },
   "source": [
    "How to turn this notebook into slides? Run:\n",
    "```\n",
    "$ ipython nbconvert --to slides lecture.ipynb  --post serve\n",
    "```\n",
    "OR (better), install the RISE Jupyter extension:\n",
    "```\n",
    "conda install -c damianavila82 rise\n",
    "```\n",
    "and hit the 'Slideshow' toolbar button."
   ]
  },
  {
   "cell_type": "markdown",
   "metadata": {
    "slideshow": {
     "slide_type": "skip"
    }
   },
   "source": [
    "This notebook uses the [python-markdown](http://jupyter-contrib-nbextensions.readthedocs.io/en/latest/nbextensions/python-markdown/readme.html) extension, allowing it to run code inline with Markdown text.\n",
    "\n",
    "To install this extension, and the [configurator GUI](https://github.com/Jupyter-contrib/jupyter_nbextensions_configurator), while Jupyter is ***not*** running run:\n",
    "```bash\n",
    "conda install -c defaults -c conda-forge jupyter_contrib_nbextensions\n",
    "conda install -c defaults -c conda-forge jupyter_nbextensions_configurator\n",
    "```\n",
    "and then enable python-markdown in the `Nbextensions` tab that will show up next time you start Jupyter."
   ]
  },
  {
   "cell_type": "markdown",
   "metadata": {
    "slideshow": {
     "slide_type": "skip"
    }
   },
   "source": [
    "To have the markup in all cells show up in this notebook, you need to mark it as 'Trusted'. The notebook will be marked as trusted once you re-evaluate all cells."
   ]
  },
  {
   "cell_type": "markdown",
   "metadata": {
    "slideshow": {
     "slide_type": "skip"
    }
   },
   "source": [
    "## Reading for Wednesday\n",
    "\n",
    "On Wednesday we're going to talk more about Python dicts, list comprehensions, modules and object oriented programming. **Please skim through these in time for the next class** (it should take you ~2-3 hours):\n",
    "\n",
    "* List comprehensions:\n",
    "  * http://www.secnetix.de/olli/Python/list_comprehensions.hawk\n",
    "  * http://www.pythonforbeginners.com/basics/list-comprehensions-in-python\n",
    "  * http://treyhunner.com/2015/12/python-list-comprehensions-now-in-color/\n",
    "  * Learning Python, Chapter 14\n",
    "\n",
    "\n",
    "* Dictionaries:\n",
    "  * https://www.python-course.eu/dictionaries.php\n",
    "  * http://introtopython.org/dictionaries.html\n",
    "  * Learning Python, Chapter 8\n",
    "\n",
    "\n",
    "* Modules:\n",
    "  * https://docs.python.org/3/tutorial/modules.html\n",
    "  * Learning Python, Chapter 22\n",
    "  * Learning Python, Chapter 23 (through \"Module Usage”).\n",
    "\n",
    "\n",
    "* Python Classes/Objects:\n",
    "  * https://jeffknupp.com/blog/2014/06/18/improve-your-python-python-classes-and-object-oriented-programming/ (you can stop at 'Inheritance' for now)\n",
    "  * Learning Python, Chapter 26\n"
   ]
  },
  {
   "cell_type": "markdown",
   "metadata": {
    "slideshow": {
     "slide_type": "skip"
    }
   },
   "source": [
    "Some helper functions to make it easier to show code listings."
   ]
  },
  {
   "cell_type": "code",
   "execution_count": 1,
   "metadata": {
    "slideshow": {
     "slide_type": "skip"
    }
   },
   "outputs": [],
   "source": [
    "def show_code_listing(fn):\n",
    "    from IPython.display import display, Markdown\n",
    "    return Markdown( '```python\\n{}\\n```'.format(open(fn).read()))\n",
    "\n",
    "def execute_and_show(cmdline):\n",
    "    from IPython.display import display, Markdown\n",
    "    res = ! $cmdline\n",
    "    res = '\\n'.join(['    ' + line for line in res])\n",
    "    print('```bash\\n    ${}\\n{}\\n```'.format(cmdline, res))"
   ]
  },
  {
   "cell_type": "markdown",
   "metadata": {
    "slideshow": {
     "slide_type": "subslide"
    }
   },
   "source": [
    "## Problem 5: A Better Way to Deal with Errors -- Exceptions\n",
    "\n",
    "Note how most of our code in the last class was just error checking and handling. The actual purpose of our code is completely hidden by all the error checking code!\n",
    "\n",
    "This doesn't have to be the case. In Python, it is possible to elegantly separate the error checking code from the main algorithm through the use of [exceptions](https://docs.python.org/3/tutorial/errors.html#exceptions). The big idea is that code can _raise an exception_ when some assumption or rule is violated.\n",
    "\n",
    "Example:"
   ]
  },
  {
   "cell_type": "code",
   "execution_count": 4,
   "metadata": {},
   "outputs": [
    {
     "ename": "ZeroDivisionError",
     "evalue": "division by zero",
     "output_type": "error",
     "traceback": [
      "\u001b[0;31m---------------------------------------------------------------------------\u001b[0m",
      "\u001b[0;31mZeroDivisionError\u001b[0m                         Traceback (most recent call last)",
      "\u001b[0;32m<ipython-input-4-50da3d058342>\u001b[0m in \u001b[0;36m<module>\u001b[0;34m()\u001b[0m\n\u001b[1;32m      2\u001b[0m     \u001b[0;32mreturn\u001b[0m \u001b[0ma\u001b[0m \u001b[0;34m/\u001b[0m \u001b[0mb\u001b[0m\u001b[0;34m\u001b[0m\u001b[0;34m\u001b[0m\u001b[0m\n\u001b[1;32m      3\u001b[0m \u001b[0;34m\u001b[0m\u001b[0m\n\u001b[0;32m----> 4\u001b[0;31m \u001b[0mprint\u001b[0m\u001b[0;34m(\u001b[0m\u001b[0;34m\"Division result: {}\"\u001b[0m\u001b[0;34m.\u001b[0m\u001b[0mformat\u001b[0m\u001b[0;34m(\u001b[0m\u001b[0mdiv\u001b[0m\u001b[0;34m(\u001b[0m\u001b[0;36m1\u001b[0m\u001b[0;34m,\u001b[0m \u001b[0;36m0\u001b[0m\u001b[0;34m)\u001b[0m\u001b[0;34m)\u001b[0m\u001b[0;34m)\u001b[0m\u001b[0;34m\u001b[0m\u001b[0;34m\u001b[0m\u001b[0m\n\u001b[0m",
      "\u001b[0;32m<ipython-input-4-50da3d058342>\u001b[0m in \u001b[0;36mdiv\u001b[0;34m(a, b)\u001b[0m\n\u001b[1;32m      1\u001b[0m \u001b[0;32mdef\u001b[0m \u001b[0mdiv\u001b[0m\u001b[0;34m(\u001b[0m\u001b[0ma\u001b[0m\u001b[0;34m,\u001b[0m \u001b[0mb\u001b[0m\u001b[0;34m)\u001b[0m\u001b[0;34m:\u001b[0m\u001b[0;34m\u001b[0m\u001b[0;34m\u001b[0m\u001b[0m\n\u001b[0;32m----> 2\u001b[0;31m     \u001b[0;32mreturn\u001b[0m \u001b[0ma\u001b[0m \u001b[0;34m/\u001b[0m \u001b[0mb\u001b[0m\u001b[0;34m\u001b[0m\u001b[0;34m\u001b[0m\u001b[0m\n\u001b[0m\u001b[1;32m      3\u001b[0m \u001b[0;34m\u001b[0m\u001b[0m\n\u001b[1;32m      4\u001b[0m \u001b[0mprint\u001b[0m\u001b[0;34m(\u001b[0m\u001b[0;34m\"Division result: {}\"\u001b[0m\u001b[0;34m.\u001b[0m\u001b[0mformat\u001b[0m\u001b[0;34m(\u001b[0m\u001b[0mdiv\u001b[0m\u001b[0;34m(\u001b[0m\u001b[0;36m1\u001b[0m\u001b[0;34m,\u001b[0m \u001b[0;36m0\u001b[0m\u001b[0;34m)\u001b[0m\u001b[0;34m)\u001b[0m\u001b[0;34m)\u001b[0m\u001b[0;34m\u001b[0m\u001b[0;34m\u001b[0m\u001b[0m\n",
      "\u001b[0;31mZeroDivisionError\u001b[0m: division by zero"
     ]
    }
   ],
   "source": [
    "def div(a, b):\n",
    "    return a / b\n",
    "\n",
    "print(\"Division result: {}\".format(div(1, 0)))"
   ]
  },
  {
   "cell_type": "code",
   "execution_count": 6,
   "metadata": {},
   "outputs": [
    {
     "ename": "ZeroDivisionError",
     "evalue": "Trying to divide by zero!",
     "output_type": "error",
     "traceback": [
      "\u001b[0;31m---------------------------------------------------------------------------\u001b[0m",
      "\u001b[0;31mZeroDivisionError\u001b[0m                         Traceback (most recent call last)",
      "\u001b[0;32m<ipython-input-6-21a528c9baf9>\u001b[0m in \u001b[0;36m<module>\u001b[0;34m()\u001b[0m\n\u001b[1;32m      5\u001b[0m     \u001b[0;32mreturn\u001b[0m \u001b[0ma\u001b[0m \u001b[0;34m/\u001b[0m \u001b[0mb\u001b[0m\u001b[0;34m\u001b[0m\u001b[0;34m\u001b[0m\u001b[0m\n\u001b[1;32m      6\u001b[0m \u001b[0;34m\u001b[0m\u001b[0m\n\u001b[0;32m----> 7\u001b[0;31m \u001b[0mprint\u001b[0m\u001b[0;34m(\u001b[0m\u001b[0;34m\"Division result: {}\"\u001b[0m\u001b[0;34m.\u001b[0m\u001b[0mformat\u001b[0m\u001b[0;34m(\u001b[0m\u001b[0mdiv\u001b[0m\u001b[0;34m(\u001b[0m\u001b[0;36m1\u001b[0m\u001b[0;34m,\u001b[0m \u001b[0;36m0\u001b[0m\u001b[0;34m)\u001b[0m\u001b[0;34m)\u001b[0m\u001b[0;34m)\u001b[0m\u001b[0;34m\u001b[0m\u001b[0;34m\u001b[0m\u001b[0m\n\u001b[0m",
      "\u001b[0;32m<ipython-input-6-21a528c9baf9>\u001b[0m in \u001b[0;36mdiv\u001b[0;34m(a, b)\u001b[0m\n\u001b[1;32m      1\u001b[0m \u001b[0;32mdef\u001b[0m \u001b[0mdiv\u001b[0m\u001b[0;34m(\u001b[0m\u001b[0ma\u001b[0m\u001b[0;34m,\u001b[0m \u001b[0mb\u001b[0m\u001b[0;34m)\u001b[0m\u001b[0;34m:\u001b[0m\u001b[0;34m\u001b[0m\u001b[0;34m\u001b[0m\u001b[0m\n\u001b[1;32m      2\u001b[0m     \u001b[0;32mif\u001b[0m \u001b[0mb\u001b[0m \u001b[0;34m==\u001b[0m \u001b[0;36m0\u001b[0m\u001b[0;34m:\u001b[0m\u001b[0;34m\u001b[0m\u001b[0;34m\u001b[0m\u001b[0m\n\u001b[0;32m----> 3\u001b[0;31m        \u001b[0;32mraise\u001b[0m \u001b[0mZeroDivisionError\u001b[0m\u001b[0;34m(\u001b[0m\u001b[0;34m\"Trying to divide by zero!\"\u001b[0m\u001b[0;34m)\u001b[0m\u001b[0;34m\u001b[0m\u001b[0;34m\u001b[0m\u001b[0m\n\u001b[0m\u001b[1;32m      4\u001b[0m \u001b[0;34m\u001b[0m\u001b[0m\n\u001b[1;32m      5\u001b[0m     \u001b[0;32mreturn\u001b[0m \u001b[0ma\u001b[0m \u001b[0;34m/\u001b[0m \u001b[0mb\u001b[0m\u001b[0;34m\u001b[0m\u001b[0;34m\u001b[0m\u001b[0m\n",
      "\u001b[0;31mZeroDivisionError\u001b[0m: Trying to divide by zero!"
     ]
    }
   ],
   "source": [
    "def div(a, b):\n",
    "    if b == 0:\n",
    "       raise ZeroDivisionError(\"Trying to divide by zero!\")\n",
    "\n",
    "    return a / b\n",
    "\n",
    "print(\"Division result: {}\".format(div(1, 0)))\n"
   ]
  },
  {
   "cell_type": "markdown",
   "metadata": {
    "variables": {
     " execute_and_show('./prog3.py 2 x') ": "<pre><code class=\"cm-s-ipython language-bash\">    $./prog3.py 2 x\n    Traceback (most recent call last):\n      File &quot;./prog3.py&quot;, line 6, in &lt;module&gt;\n        b = float(sys.argv[2])\n    ValueError: could not convert string to float: &#39;x&#39;\n</code></pre>\n"
    }
   },
   "source": [
    "When an exception is raised, Python stops executing the program and returns immediately from the called function. If an exception is not _caught_, it will interupt the program and print out a _stack trace_ (the output above) that gives you an idea of where an exception occured.\n",
    "\n",
    "You've encountered this already:\n",
    "{{ execute_and_show('./prog3.py 2 x') }}\n",
    "The output above is the result of an _uncaught exception_.\n",
    "\n",
    "The idea is that you can \"catch\" these exceptions, and handle the error condition gracefully (i.e., by writing out a nice error message). This is accomplished through the use of a \"`try ... except`\" clause:"
   ]
  },
  {
   "cell_type": "code",
   "execution_count": 15,
   "metadata": {},
   "outputs": [
    {
     "name": "stdout",
     "output_type": "stream",
     "text": [
      "Division result: 0.5\n",
      "Trying to divide by zero!\n",
      "I'm not dead!\n"
     ]
    }
   ],
   "source": [
    "def div(a, b):\n",
    "    if b == 0:\n",
    "        raise ZeroDivisionError(\"Trying to divide by zero!\")\n",
    "\n",
    "    return a / b\n",
    "\n",
    "try:\n",
    "    print(\"Division result: {}\".format(div(1, 2)))\n",
    "    print(\"Division result: {}\".format(div(1, 0)))\n",
    "    print(\"Division result: {}\".format(div(1, 3)))    \n",
    "except ZeroDivisionError as err:\n",
    "    print(err)\n",
    "    \n",
    "print(\"I'm not dead!\")"
   ]
  },
  {
   "cell_type": "markdown",
   "metadata": {},
   "source": [
    "What's happened:\n",
    "* We've now wrapped our calls to `div()` in a `try...except` block.\n",
    "* When an exception was raised, the program immediately jumped to the first `except` block that matched the type of the raised exception. We say that an exception has been _handled_.\n",
    "* After that, execution continued (note how it printed the message about not being dead)\n",
    "* Finally, note how `div(1, 3)` line has not been invoked -- because an exception has been raised, the execution continued in the `except` block. Python does not \"go back\" after handling the exception!"
   ]
  },
  {
   "cell_type": "markdown",
   "metadata": {},
   "source": [
    "### Exceptions are the \"Pythonic Way\"\n",
    "\n",
    "This is the preferred way to signal and check for errors in Python. Virtually all errors (\"exceptional situations\") are reported by raising an exception.\n",
    "\n",
    "Actually, we didn't need to explicitly check for `b=0` -- Python itself raises an exception if we try to divide by zero:"
   ]
  },
  {
   "cell_type": "code",
   "execution_count": 16,
   "metadata": {},
   "outputs": [
    {
     "ename": "ZeroDivisionError",
     "evalue": "division by zero",
     "output_type": "error",
     "traceback": [
      "\u001b[0;31m---------------------------------------------------------------------------\u001b[0m",
      "\u001b[0;31mZeroDivisionError\u001b[0m                         Traceback (most recent call last)",
      "\u001b[0;32m<ipython-input-16-bc757c3fda29>\u001b[0m in \u001b[0;36m<module>\u001b[0;34m()\u001b[0m\n\u001b[0;32m----> 1\u001b[0;31m \u001b[0;36m1\u001b[0m \u001b[0;34m/\u001b[0m \u001b[0;36m0\u001b[0m\u001b[0;34m\u001b[0m\u001b[0;34m\u001b[0m\u001b[0m\n\u001b[0m",
      "\u001b[0;31mZeroDivisionError\u001b[0m: division by zero"
     ]
    }
   ],
   "source": [
    "1 / 0"
   ]
  },
  {
   "cell_type": "markdown",
   "metadata": {},
   "source": [
    "or another example, indexing past the end of a list:"
   ]
  },
  {
   "cell_type": "code",
   "execution_count": 17,
   "metadata": {},
   "outputs": [
    {
     "ename": "IndexError",
     "evalue": "list index out of range",
     "output_type": "error",
     "traceback": [
      "\u001b[0;31m---------------------------------------------------------------------------\u001b[0m",
      "\u001b[0;31mIndexError\u001b[0m                                Traceback (most recent call last)",
      "\u001b[0;32m<ipython-input-17-60be27ff9d50>\u001b[0m in \u001b[0;36m<module>\u001b[0;34m()\u001b[0m\n\u001b[1;32m      1\u001b[0m \u001b[0ma\u001b[0m \u001b[0;34m=\u001b[0m \u001b[0;34m[\u001b[0m\u001b[0;34m\"a\"\u001b[0m\u001b[0;34m,\u001b[0m \u001b[0;34m\"b\"\u001b[0m\u001b[0;34m,\u001b[0m \u001b[0;34m\"c\"\u001b[0m\u001b[0;34m]\u001b[0m\u001b[0;34m\u001b[0m\u001b[0;34m\u001b[0m\u001b[0m\n\u001b[0;32m----> 2\u001b[0;31m \u001b[0ma\u001b[0m\u001b[0;34m[\u001b[0m\u001b[0;36m4\u001b[0m\u001b[0;34m]\u001b[0m\u001b[0;34m\u001b[0m\u001b[0;34m\u001b[0m\u001b[0m\n\u001b[0m",
      "\u001b[0;31mIndexError\u001b[0m: list index out of range"
     ]
    }
   ],
   "source": [
    "a = [\"a\", \"b\", \"c\"]\n",
    "a[4]"
   ]
  },
  {
   "cell_type": "markdown",
   "metadata": {},
   "source": [
    "We can have multiple `except` blocks, to handle different kinds of exceptions:"
   ]
  },
  {
   "cell_type": "code",
   "execution_count": 22,
   "metadata": {},
   "outputs": [
    {
     "name": "stdout",
     "output_type": "stream",
     "text": [
      "list index out of range\n",
      "moving on!\n"
     ]
    }
   ],
   "source": [
    "arr = [0, 1, 2, 3]\n",
    "i, j = 5, 0\n",
    "try:\n",
    "\n",
    "    print(arr[i] / arr[j])\n",
    "\n",
    "except ZeroDivisionError as err:\n",
    "    print(err)\n",
    "except IndexError as err:\n",
    "    print(err)\n",
    "    \n",
    "print(\"moving on!\")"
   ]
  },
  {
   "cell_type": "markdown",
   "metadata": {},
   "source": [
    "Compare that to:"
   ]
  },
  {
   "cell_type": "code",
   "execution_count": 23,
   "metadata": {},
   "outputs": [
    {
     "name": "stdout",
     "output_type": "stream",
     "text": [
      "list index out of range\n",
      "moving on!\n"
     ]
    }
   ],
   "source": [
    "arr = [0, 1, 2, 3]\n",
    "i, j = 1, 5\n",
    "\n",
    "if i < 0 or i >= len(arr) or j < 0 or j >= len(arr):\n",
    "    print(\"list index out of range\")\n",
    "elif arr[j] == 0:\n",
    "    print(\"division by zero\")\n",
    "else:\n",
    "    print(arr[i] / arr[j])\n",
    "\n",
    "print(\"moving on!\")"
   ]
  },
  {
   "cell_type": "markdown",
   "metadata": {},
   "source": [
    "Note:\n",
    "* The code using exceptions is _cleaner_ -- it neatly separates the part that does work (divides two numbers) from the part that handles exceptional situations.\n",
    "* The code using exceptions is _shorter_ -- shorter coe, fewer bugs.\n",
    "* The philosophical approach to errors is fundamentally different:\n",
    "  1. the implementation with `if` statements tries to _avoid_ even trying to break the rules (dividing by zero, indexing out of bounds, ...)\n",
    "  1. the implementation with exceptions detects when the rules were attempted to be broken and reacts to that situation."
   ]
  },
  {
   "cell_type": "markdown",
   "metadata": {},
   "source": [
    "## It's Easier to Ask for Forgiveness than Permission\n",
    "\n",
    "What we've done above is an example of the [***EAFP***](https://docs.python.org/3.6/glossary.html) coding style:\n",
    "\n",
    ">   It's **E**asier to **A**sk for **F**orgiveness, than **P**ermission.\n",
    ">\n",
    "\n",
    "that is core to well-written, readable, Python code."
   ]
  },
  {
   "cell_type": "markdown",
   "metadata": {},
   "source": [
    "How do you know what exceptions you could (should) be catching?\n",
    "* The documentation of (typically) tells you which exceptions any given function may raise.\n",
    "* Look at Python's [list of built-in exceptions](https://docs.python.org/3/library/exceptions.html)\n",
    "* you can catch all exceptions with a simple `except` but this will hide errors in your code (i.e. you wont be able to separate a divide by zero from an array overflow"
   ]
  },
  {
   "cell_type": "markdown",
   "metadata": {
    "slideshow": {
     "slide_type": "subslide"
    }
   },
   "source": [
    "Discusion:\n",
    "* This is _much_ cleaner now! Just a quick glance gives you an idea what this code does!\n",
    "* Exceptions are \"caught\" in a [`try-except` block](https://docs.python.org/3/tutorial/errors.html#handling-exceptions).\n",
    "* There was no need for the `number_or_exit()` function any more, or the messy loop, etc.!\n",
    "* The code is now much more [_Pythonic_](http://docs.python-guide.org/en/latest/writing/style/)."
   ]
  },
  {
   "cell_type": "markdown",
   "metadata": {},
   "source": [
    "Remember:\n",
    "\n",
    ">   It's **E**asier to **A**sk for **F**orgiveness, than **P**ermission.\n",
    ">\n",
    "\n",
    "This is the Pythonic Way!"
   ]
  },
  {
   "cell_type": "markdown",
   "metadata": {},
   "source": [
    "## List Comprehensions\n",
    "\n",
    "Converting the list of command line arguments from strings to floats is example of a _transformation_: take one list, apply some operation to each element (potentially including filtering), and return a new list.\n",
    "\n",
    "Python has a very succint and efficient construct for writing out such transformations: _list comprehensions_.\n",
    "\n",
    "These are best understood by looking at a few examples:"
   ]
  },
  {
   "cell_type": "code",
   "execution_count": 26,
   "metadata": {},
   "outputs": [
    {
     "name": "stdout",
     "output_type": "stream",
     "text": [
      "Input list: [0, 1, 2, 3, 4, 5, 6, 7, 8, 9, 10]\n",
      "Squares of all elements: [0, 1, 4, 9, 16, 25, 36, 49, 64, 81, 100]\n",
      "Odd elements: [1, 3, 5, 7, 9]\n",
      "Squares of even elements: [0, 4, 16, 36, 64, 100]\n"
     ]
    }
   ],
   "source": [
    "lst = [0, 1, 2, 3, 4, 5, 6, 7, 8, 9, 10]\n",
    "print(\"Input list: %s\" % lst)\n",
    "\n",
    "squares = [x**2 for x in lst]\n",
    "print(\"Squares of all elements: %s\" % squares)\n",
    "\n",
    "odd = [x for x in lst if x % 2 == 1]\n",
    "print(\"Odd elements: %s\" % odd)\n",
    "\n",
    "even_squares = [ x**2 for x in lst if x % 2 == 0 ]\n",
    "print(\"Squares of even elements: %s\" % even_squares)"
   ]
  },
  {
   "cell_type": "markdown",
   "metadata": {},
   "source": [
    "We can see that the second of these examples is the same as\n",
    "```\n",
    "squares = []\n",
    "for x in lst:\n",
    "    squares.append(x**2)\n",
    "print(\"Squares of all elements: %s\" % squares)\n",
    "```\n",
    "It is just a much cleaner and simpler way of writing the code (this is a good philosphy to have - make the code simple and concise)"
   ]
  },
  {
   "cell_type": "code",
   "execution_count": 25,
   "metadata": {},
   "outputs": [
    {
     "name": "stdout",
     "output_type": "stream",
     "text": [
      "Squares of all elements: [0, 1, 4, 9, 16, 25, 36, 49, 64, 81, 100]\n"
     ]
    }
   ],
   "source": [
    "lst = [0, 1, 2, 3, 4, 5, 6, 7, 8, 9, 10]\n",
    "\n",
    "squares = []\n",
    "for x in lst:\n",
    "    squares.append(x**2)\n",
    "\n",
    "\n",
    "squares2 = [x**2 for x in lst]\n",
    "print(\"Squares of all elements: %s\" % squares2)"
   ]
  },
  {
   "cell_type": "markdown",
   "metadata": {},
   "source": [
    "### Group Work\n",
    "\n",
    "Take a new program `prog10.py` that will print the product of all entries on the command line and rewrite our example (just the `to_floats` function) to use a comprehension instead. Note that our program also uses `try:` `except:` blocks that with introduced earlier"
   ]
  },
  {
   "cell_type": "code",
   "execution_count": 29,
   "metadata": {},
   "outputs": [
    {
     "name": "stdout",
     "output_type": "stream",
     "text": [
      "```bash\n",
      "    $./prog10.py 1 2 3 4 5\n",
      "    120.0\n",
      "```\n"
     ]
    }
   ],
   "source": [
    "execute_and_show(\"./prog10.py 1 2 3 4 5\")"
   ]
  },
  {
   "cell_type": "code",
   "execution_count": 14,
   "metadata": {},
   "outputs": [
    {
     "data": {
      "text/markdown": [
       "```python\n",
       "#!/usr/bin/env python\n",
       "\n",
       "import sys\n",
       "\n",
       "def exit_with_msg(msg):\n",
       "    \"\"\" Prints a usage message and exits the program. \"\"\"\n",
       "    print(\"{}\\n\\nUsage: {} <arg1> <arg2>\".format(msg, sys.argv[0]))\n",
       "    exit(0)\n",
       "\n",
       "def to_floats(lst):\n",
       "    \"\"\" Returns a list of strings corresponding to a list of floats \"\"\"\n",
       "    vals = []\n",
       "    for arg in lst:\n",
       "        vals.append( float(arg) )\n",
       "    return vals\n",
       "\n",
       "def prod(lst):\n",
       "    \"\"\" Computes and returns the product of a list \"\"\"\n",
       "    res = 1.\n",
       "    for x in lst: res *= x\n",
       "    return res\n",
       "\n",
       "#### The main program begins here\n",
       "\n",
       "try:\n",
       "    float_list = to_floats( sys.argv[1:] )\n",
       "    print ( prod( float_list ) )\n",
       "except ValueError as e:\n",
       "    exit_with_msg(\"Error: {}. All arguments must be numbers.\".format(e))\n",
       "\n",
       "```"
      ],
      "text/plain": [
       "<IPython.core.display.Markdown object>"
      ]
     },
     "execution_count": 14,
     "metadata": {},
     "output_type": "execute_result"
    }
   ],
   "source": [
    "show_code_listing(\"prog10.py\")"
   ]
  },
  {
   "cell_type": "code",
   "execution_count": 22,
   "metadata": {},
   "outputs": [
    {
     "data": {
      "text/markdown": [
       "```python\n",
       "#!/usr/bin/env python\n",
       "\n",
       "import sys\n",
       "\n",
       "def exit_with_msg(msg):\n",
       "    \"\"\" Prints a usage message and exits the program. \"\"\"\n",
       "    print(\"{}\\n\\nUsage: {} <arg1> <arg2>\".format(msg, sys.argv[0]))\n",
       "    exit(0)\n",
       "\n",
       "def to_floats(lst):\n",
       "    \"\"\" Returns a list of strings corresponding to a list of floats \"\"\"\n",
       "    return [ float(arg) for arg in lst ]\n",
       "\n",
       "def prod(lst):\n",
       "    \"\"\" Computes and returns the product of a list \"\"\"\n",
       "    res = 1.\n",
       "    for x in lst: res *= x\n",
       "    return res\n",
       "\n",
       "#### The main program begins here\n",
       "\n",
       "try:\n",
       "    float_list = to_floats( sys.argv[1:] )\n",
       "    print ( prod( float_list ) )\n",
       "except ValueError as e:\n",
       "    exit_with_msg(\"Error: {}. All arguments must be numbers.\".format(e))\n",
       "\n",
       "```"
      ],
      "text/plain": [
       "<IPython.core.display.Markdown object>"
      ]
     },
     "execution_count": 22,
     "metadata": {},
     "output_type": "execute_result"
    }
   ],
   "source": [
    "show_code_listing(\"prog11.py\")"
   ]
  },
  {
   "cell_type": "markdown",
   "metadata": {},
   "source": [
    "Note:\n",
    "* Comprehensions are a concept Python adopted from [functional programming](https://en.wikipedia.org/wiki/Functional_programming) languages."
   ]
  },
  {
   "cell_type": "markdown",
   "metadata": {
    "variables": {
     "execute_and_show('cat ./mjutils.py')": "<pre><code class=\"cm-s-ipython language-bash\">    $cat ./mjutils.py\n    &quot;&quot;&quot;\n    My first module with functions that I find useful.\n    &quot;&quot;&quot;\n\n    def add(a, b):\n        &quot;&quot;&quot; Adds two numbers, a + b &quot;&quot;&quot;\n        return a + b\n\n    def sub(a, b):\n        &quot;&quot;&quot; Subtracts two numbers, a - b &quot;&quot;&quot;\n        return a - b\n</code></pre>\n"
    }
   },
   "source": [
    "## Introducing Modules\n",
    "\n",
    "(paraphrasing from https://docs.python.org/3/tutorial/modules.html):\n",
    "\n",
    "As your program gets longer, you may want to split it into several files for easier maintenance. You may also want to use a handy function that you’ve written in several programs without copying its definition into each program.\n",
    "\n",
    "To support this, Python has a way to put definitions in a file and use them in a script or in an interactive session. Such a file is called a **module**; definitions from a module can be **imported** into other modules or into the main program.\n",
    "\n",
    "This is very important if you start writing code using Jupyter notebooks and want to make it reusable\n",
    "\n",
    "For example, if I have a file named `myutils.py`, {{execute_and_show('cat ./myutils.py')}}, I could use in another Python program (or in a Jupyter notebook) as:\n",
    "```python\n",
    "import myutils\n",
    "myutils.add(3, 4)\n",
    "```"
   ]
  },
  {
   "cell_type": "code",
   "execution_count": 33,
   "metadata": {},
   "outputs": [
    {
     "data": {
      "text/plain": [
       "7"
      ]
     },
     "execution_count": 33,
     "metadata": {},
     "output_type": "execute_result"
    }
   ],
   "source": [
    "import myutils as mu\n",
    "mu.add(3, 4)"
   ]
  },
  {
   "cell_type": "code",
   "execution_count": 30,
   "metadata": {},
   "outputs": [
    {
     "data": {
      "text/markdown": [
       "```python\n",
       "\"\"\"\n",
       "My first module with functions that I find useful.\n",
       "\"\"\"\n",
       "\n",
       "def add(a, b):\n",
       "    \"\"\" Adds two numbers, a + b \"\"\"\n",
       "    return a + b\n",
       "\n",
       "def sub(a, b):\n",
       "    \"\"\" Subtracts two numbers, a - b \"\"\"\n",
       "    return a - b\n",
       "\n",
       "```"
      ],
      "text/plain": [
       "<IPython.core.display.Markdown object>"
      ]
     },
     "execution_count": 30,
     "metadata": {},
     "output_type": "execute_result"
    }
   ],
   "source": [
    "show_code_listing(\"myutils.py\")"
   ]
  },
  {
   "cell_type": "markdown",
   "metadata": {
    "slideshow": {
     "slide_type": "slide"
    }
   },
   "source": [
    "## Problem 8: Let's Make our Program a Module\n",
    "\n",
    "The two functions we've written in prog11.py -- `to_float` and `prod` -- seem to be generally useful. For example, if we write a utility that _sums_ the list of numbers given to it on the command line, we'll still want to use something like `to_float` to convert from string to floats.\n",
    "\n",
    "### Group Work\n",
    "\n",
    "So let's split off these two functions into their own module, named 'utils'. Then our program will look like:"
   ]
  },
  {
   "cell_type": "code",
   "execution_count": 21,
   "metadata": {},
   "outputs": [
    {
     "data": {
      "text/markdown": [
       "```python\n",
       "#!/usr/bin/env python\n",
       "\n",
       "import sys\n",
       "import utils\n",
       "\n",
       "def exit_with_msg(msg):\n",
       "    \"\"\" Prints a usage message and exits the program. \"\"\"\n",
       "    print(\"{}\\n\\nUsage: {} <arg1> <arg2>\".format(msg, sys.argv[0]))\n",
       "    exit(0)\n",
       "\n",
       "#### The main program begins here\n",
       "\n",
       "try:\n",
       "    float_list = utils.to_floats( sys.argv[1:] )\n",
       "    print ( utils.prod( float_list ) )\n",
       "except ValueError as e:\n",
       "    exit_with_msg(\"Error: {}. All arguments must be numbers.\".format(e))\n",
       "\n",
       "```"
      ],
      "text/plain": [
       "<IPython.core.display.Markdown object>"
      ]
     },
     "execution_count": 21,
     "metadata": {},
     "output_type": "execute_result"
    }
   ],
   "source": [
    "show_code_listing(\"prog12.py\")"
   ]
  },
  {
   "cell_type": "markdown",
   "metadata": {
    "slideshow": {
     "slide_type": "subslide"
    }
   },
   "source": [
    "## Implementation of the module"
   ]
  },
  {
   "cell_type": "code",
   "execution_count": 34,
   "metadata": {},
   "outputs": [
    {
     "data": {
      "text/markdown": [
       "```python\n",
       "\"\"\" A module with useful functions \"\"\"\n",
       "\n",
       "def to_floats(lst):\n",
       "    \"\"\" Returns a list of strings corresponding to a list of floats \"\"\"\n",
       "    return [ float(arg) for arg in lst ]\n",
       "\n",
       "def prod(lst):\n",
       "    \"\"\" Computes and returns the product of a list \"\"\"\n",
       "    res = 1.\n",
       "    for x in lst: res *= x\n",
       "    return res\n",
       "\n",
       "```"
      ],
      "text/plain": [
       "<IPython.core.display.Markdown object>"
      ]
     },
     "execution_count": 34,
     "metadata": {},
     "output_type": "execute_result"
    }
   ],
   "source": [
    "show_code_listing(\"utils.py\")"
   ]
  },
  {
   "cell_type": "markdown",
   "metadata": {},
   "source": [
    "And that's all (well... most :)) there is to it!"
   ]
  },
  {
   "cell_type": "markdown",
   "metadata": {},
   "source": [
    "### Modules: Enabling Code Re-use\n",
    "\n",
    "Modules (and collections of modules -- packages) are a way by which Python supports and encourages ***code re-use***. They allow you to create (and share!) collections of useful routines. Virtuall all useful Python routines, as well as the libraries you're familiar with -- numpy, scipy, matplotlib -- are nothing else but Python packages.\n",
    "\n",
    "In research, your typical workflow will be very similar to what we've done here:\n",
    "1. Solving a problem (either as a .py script, or in a Jupyter notebook)\n",
    "1. Noticing that elements of your solution are more broadly useful.\n",
    "1. Moving them to a module, and changing the code to use the module instead.\n",
    "1. **If you need to edit a module and reimport it it wont by default be reloaded into the python kernel. You would need to use**\n",
    "  ```\n",
    "  import importlib\n",
    "  importlib.reload(utils)\n",
    "```"
   ]
  },
  {
   "cell_type": "markdown",
   "metadata": {
    "collapsed": true,
    "slideshow": {
     "slide_type": "slide"
    }
   },
   "source": [
    "## Object Oriented Programming\n",
    "\n",
    "Finally, let's refresh our memory of [object oriented programming](https://en.wikipedia.org/wiki/Object-oriented_programming), or 'OOP', that was introduced in ASTR 300.\n",
    "\n",
    "Terminology:\n",
    "* What is an ***object***? A collection of logically related data and functions that manipulate those data (called ***methods***).\n",
    "* What is a ***class***? Classes can be thought of a description for how to create objects. It specifies which data the object should contain, and what methods will there be to manipulate those data. But a class does not create the object itself.\n",
    "\n",
    "A real-world analogy may be that of a _car_ (a class), and a 2015 Ford Mustang (an _instance_ of a car -- the object).\n",
    "\n",
    "An example in Python:"
   ]
  },
  {
   "cell_type": "code",
   "execution_count": 36,
   "metadata": {},
   "outputs": [
    {
     "name": "stdout",
     "output_type": "stream",
     "text": [
      "Ford Mustang 4 20000.0 19900.0\n",
      "Hyundai Elantra 4 20000.0 17500.0\n",
      "Robin Reliant 3 15000.0 -10000.0\n"
     ]
    }
   ],
   "source": [
    "class Car:\n",
    "    \"\"\"A car for sale by Jeffco Car Dealership.\n",
    "\n",
    "    Attributes:\n",
    "        wheels: An integer representing the number of wheels the car has.\n",
    "        miles: The integral number of miles driven on the car.\n",
    "        make: The make of the car as a string.\n",
    "        model: The model of the car as a string.\n",
    "        year: The integral year the car was built.\n",
    "    \"\"\"\n",
    "\n",
    "    def __init__(self, wheels, miles, make, model, year):\n",
    "        \"\"\"Return a new Car object.\"\"\"\n",
    "        self.wheels = wheels\n",
    "        self.miles = miles\n",
    "        self.make = make\n",
    "        self.model = model\n",
    "        self.year = year\n",
    "\n",
    "    def purchase_price(self):\n",
    "        \"\"\"Return the purchase price for this car as a float amount.\"\"\"\n",
    "        return 5000.0 * self.wheels\n",
    "\n",
    "    def sale_price(self):\n",
    "        \"\"\"Return the price for which we would sell the car.\"\"\"\n",
    "        return self.purchase_price() - (.10 * self.miles)\n",
    "\n",
    "mustang = Car(4, 1000, 'Ford', 'Mustang', 2015)\n",
    "elantra = Car(4, 25000, 'Hyundai', 'Elantra', 2011)\n",
    "robin = Car(3, 250000, 'Robin', 'Reliant', 1970)\n",
    "\n",
    "\n",
    "\n",
    "print(mustang.make, mustang.model, mustang.wheels, mustang.purchase_price(), mustang.sale_price())\n",
    "print(elantra.make, elantra.model, elantra.wheels, elantra.purchase_price(), elantra.sale_price())\n",
    "print(robin.make, robin.model, robin.wheels, robin.purchase_price(), robin.sale_price())"
   ]
  },
  {
   "cell_type": "markdown",
   "metadata": {},
   "source": [
    "Things to note:\n",
    "* We define classes with the 'class' keyword.\n",
    "* Functions defined within a class are known as `methods`\n",
    "\n",
    "\n",
    "* We create objects (instances of classes) by \"calling\" the class as if it was a function. Note how we can create many different objects of a same class.\n",
    "* We access the data within the object using a `<object>.<field>` notation\n",
    "* We invoke methods using the same notation.\n",
    "\n",
    "\n",
    "* All methods defined in the class take a special first argument, by convention named `self`. This is where the data for a particular object instance is stored.\n",
    "* There's a special method named `__init__`. This method is called when the object is being created; it is called a `constructor` (it constructs the object).\n",
    "\n",
    "\n",
    "* There are also many other elements to OOP (key being inheritance), that we don't have time to go over today -- check your ASTR 300 notes or the 'Learning Python' book."
   ]
  },
  {
   "cell_type": "markdown",
   "metadata": {
    "slideshow": {
     "slide_type": "slide"
    }
   },
   "source": [
    "## Everything is an object in Python\n",
    "\n",
    "Objects/classes are **immensly useful** when building organized, reusable, code.\n",
    "\n",
    "In Python, though you may not think about it, _every_ value is an object. For example, all integers are istances of a class `int`; think of an integer as an \"instance of class `int` with an internal state corresponding to the specific integer it represents\". Floating point numbers are instances of a class `float`, lists are instances of class `list`, strings are instances of class `str`, all `numpy` arrays you've encoutered are objects, etc, etc. ***Everything is an object in Python.***"
   ]
  },
  {
   "cell_type": "code",
   "execution_count": null,
   "metadata": {},
   "outputs": [],
   "source": []
  }
 ],
 "metadata": {
  "celltoolbar": "Slideshow",
  "kernelspec": {
   "display_name": "Python 3",
   "language": "python",
   "name": "python3"
  },
  "language_info": {
   "codemirror_mode": {
    "name": "ipython",
    "version": 3
   },
   "file_extension": ".py",
   "mimetype": "text/x-python",
   "name": "python",
   "nbconvert_exporter": "python",
   "pygments_lexer": "ipython3",
   "version": "3.6.8"
  },
  "livereveal": {
   "scroll": true,
   "start_slideshow_at": "selected"
  }
 },
 "nbformat": 4,
 "nbformat_minor": 2
}
