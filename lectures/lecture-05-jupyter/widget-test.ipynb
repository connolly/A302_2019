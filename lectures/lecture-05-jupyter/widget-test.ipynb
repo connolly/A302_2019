{
 "cells": [
  {
   "cell_type": "markdown",
   "metadata": {},
   "source": [
    "# A test notebook for debugging ipywidgets issues"
   ]
  },
  {
   "cell_type": "markdown",
   "metadata": {},
   "source": [
    "This should make a slider appear:"
   ]
  },
  {
   "cell_type": "code",
   "execution_count": 1,
   "metadata": {},
   "outputs": [
    {
     "data": {
      "application/vnd.jupyter.widget-view+json": {
       "model_id": "3f4d063e81284db988f2414ed5b215da",
       "version_major": 2,
       "version_minor": 0
      },
      "text/plain": [
       "A Jupyter Widget"
      ]
     },
     "metadata": {},
     "output_type": "display_data"
    },
    {
     "data": {
      "text/plain": [
       "<function __main__.f>"
      ]
     },
     "execution_count": 1,
     "metadata": {},
     "output_type": "execute_result"
    }
   ],
   "source": [
    "from ipywidgets import interact\n",
    "\n",
    "def f(x):\n",
    "    return 2*x\n",
    "\n",
    "interact(f, x=10)"
   ]
  },
  {
   "cell_type": "markdown",
   "metadata": {},
   "source": [
    "And let's quickly check what your system is and which packages you have installed..."
   ]
  },
  {
   "cell_type": "code",
   "execution_count": 5,
   "metadata": {},
   "outputs": [
    {
     "name": "stdout",
     "output_type": "stream",
     "text": [
      "Darwin D-10-18-237-194.dhcp4.washington.edu 17.2.0 Darwin Kernel Version 17.2.0: Fri Sep 29 18:27:05 PDT 2017; root:xnu-4570.20.62~3/RELEASE_X86_64 x86_64\n",
      "# packages in environment at /Users/mjuric/anaconda3:\n",
      "#\n",
      "ipywidgets                7.0.0            py36h24d3910_0  \n",
      "# packages in environment at /Users/mjuric/anaconda3:\n",
      "#\n",
      "jupyter                   1.0.0            py36h598a6cc_0  \n",
      "jupyter_client            5.1.0            py36hf6c435f_0  \n",
      "jupyter_console           5.2.0            py36hccf5b1c_1  \n",
      "jupyter_contrib_core      0.3.3                    py36_1    conda-forge\n",
      "jupyter_contrib_nbextensions 0.3.3                    py36_0    conda-forge\n",
      "jupyter_core              4.3.0            py36h93810fe_0  \n",
      "jupyter_highlight_selected_word 0.1.0                    py36_0    conda-forge\n",
      "jupyter_latex_envs        1.4.0                    py36_1    conda-forge\n",
      "jupyter_nbextensions_configurator 0.3.0                    py36_0    conda-forge\n",
      "jupyterlab                0.27.0           py36hd3092eb_2  \n",
      "jupyterlab_launcher       0.4.0            py36h93e02e9_0  \n",
      "# packages in environment at /Users/mjuric/anaconda3:\n",
      "#\n",
      "ipython                   6.1.0            py36hf612aae_1  \n",
      "ipython_genutils          0.2.0            py36h241746c_0  \n",
      "msgpack-python            0.4.8            py36h46767b2_0  \n",
      "python                    3.6.3                h6804ab2_0  \n",
      "python-dateutil           2.6.1            py36h86d2abb_1  \n",
      "python.app                2                py36h7fe2238_6  \n"
     ]
    }
   ],
   "source": [
    "! uname -a\n",
    "for pkg in 'ipywidgets jupyter python'.split():\n",
    "    ! conda list {pkg}"
   ]
  }
 ],
 "metadata": {
  "kernelspec": {
   "display_name": "Python 3",
   "language": "python",
   "name": "python3"
  },
  "language_info": {
   "codemirror_mode": {
    "name": "ipython",
    "version": 3
   },
   "file_extension": ".py",
   "mimetype": "text/x-python",
   "name": "python",
   "nbconvert_exporter": "python",
   "pygments_lexer": "ipython3",
   "version": "3.6.3"
  }
 },
 "nbformat": 4,
 "nbformat_minor": 2
}
