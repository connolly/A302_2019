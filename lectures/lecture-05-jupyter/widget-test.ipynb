{
 "cells": [
  {
   "cell_type": "markdown",
   "metadata": {},
   "source": [
    "# A test notebook for debugging ipywidgets issues"
   ]
  },
  {
   "cell_type": "markdown",
   "metadata": {},
   "source": [
    "This should make a slider appear:"
   ]
  },
  {
   "cell_type": "code",
   "execution_count": 1,
   "metadata": {},
   "outputs": [
    {
     "data": {
      "application/vnd.jupyter.widget-view+json": {
       "model_id": "23f1891e0f314eafbc72c3a46b3fd7c4",
       "version_major": 2,
       "version_minor": 0
      },
      "text/plain": [
       "interactive(children=(IntSlider(value=10, description='x', max=30, min=-10), Output()), _dom_classes=('widget-…"
      ]
     },
     "metadata": {},
     "output_type": "display_data"
    },
    {
     "data": {
      "text/plain": [
       "<function __main__.f(x)>"
      ]
     },
     "execution_count": 1,
     "metadata": {},
     "output_type": "execute_result"
    }
   ],
   "source": [
    "from ipywidgets import interact\n",
    "\n",
    "def f(x):\n",
    "    return 2*x\n",
    "\n",
    "interact(f, x=10)"
   ]
  },
  {
   "cell_type": "markdown",
   "metadata": {},
   "source": [
    "And let's quickly check what your system is and which packages you have installed..."
   ]
  },
  {
   "cell_type": "code",
   "execution_count": 2,
   "metadata": {},
   "outputs": [
    {
     "name": "stdout",
     "output_type": "stream",
     "text": [
      "Darwin D-10-19-248-179.dhcp4.washington.edu 17.7.0 Darwin Kernel Version 17.7.0: Thu Dec 20 21:47:19 PST 2018; root:xnu-4570.71.22~1/RELEASE_X86_64 x86_64\n",
      "# packages in environment at /miniconda3:\n",
      "#\n",
      "# Name                    Version                   Build  Channel\n",
      "ipywidgets                7.4.2                    py37_0  \n",
      "# packages in environment at /miniconda3:\n",
      "#\n",
      "# Name                    Version                   Build  Channel\n",
      "jupyter                   1.0.0                    py37_7  \n",
      "jupyter_client            5.2.4                    py37_0  \n",
      "jupyter_console           6.0.0                    py37_0  \n",
      "jupyter_contrib_core      0.3.3                      py_2    conda-forge\n",
      "jupyter_contrib_nbextensions 0.5.1                    py37_0    conda-forge\n",
      "jupyter_core              4.4.0                    py37_0  \n",
      "jupyter_highlight_selected_word 0.2.0                 py37_1000    conda-forge\n",
      "jupyter_latex_envs        1.4.4                 py37_1000    conda-forge\n",
      "jupyter_nbextensions_configurator 0.4.1                    py37_0    conda-forge\n",
      "# packages in environment at /miniconda3:\n",
      "#\n",
      "# Name                    Version                   Build  Channel\n",
      "ipython                   7.2.0            py37h39e3cac_0  \n",
      "ipython_genutils          0.2.0                    py37_0  \n",
      "python                    3.7.1                haf84260_7  \n",
      "python-dateutil           2.8.0                      py_0    conda-forge\n",
      "python-libarchive-c       2.8                      py37_6  \n",
      "python.app                2                        py37_9  \n"
     ]
    }
   ],
   "source": [
    "! uname -a\n",
    "for pkg in 'ipywidgets jupyter python'.split():\n",
    "    ! conda list {pkg}"
   ]
  },
  {
   "cell_type": "code",
   "execution_count": null,
   "metadata": {},
   "outputs": [],
   "source": []
  }
 ],
 "metadata": {
  "kernelspec": {
   "display_name": "Python 3",
   "language": "python",
   "name": "python3"
  },
  "language_info": {
   "codemirror_mode": {
    "name": "ipython",
    "version": 3
   },
   "file_extension": ".py",
   "mimetype": "text/x-python",
   "name": "python",
   "nbconvert_exporter": "python",
   "pygments_lexer": "ipython3",
   "version": "3.7.1"
  }
 },
 "nbformat": 4,
 "nbformat_minor": 2
}
