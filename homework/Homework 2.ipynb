{
 "cells": [
  {
   "cell_type": "markdown",
   "metadata": {},
   "source": [
    "## Homework #2: Practicing git, and collaborating using GitHub\n",
    "\n",
    "### Due Wednesday Jan 30th\n",
    "\n",
    "\n",
    "At:\n",
    "\n",
    "        https://github.com/connolly/astr-302-calc\n",
    "\n",
    "you will find a project attempting to collaboratively build a toy scientific calculator. The calculator has only a few operations implemented, but also a number of proposed enhancements recorded as GitHub issues. Your task is to:\n",
    "\n",
    "* By the end of this week:\n",
    "  - Add an issue for an enhancement to the calculator\n",
    "  - Claim an issue you will work on by assigning yourself to it. It cannot not be the issue you opened!\n",
    "\n",
    "\n",
    "* Try by Monday 28th (end-of-day):\n",
    "  - Implement the proposed enhancement in your own fork, and initiate a Pull Request to merge it back.\n",
    "  - Assign one of your colleagues as a reviewer (ask on #general who is available, or ask in class). You should also get a review assignment from one of your colleagues.\n",
    "\n",
    "\n",
    "* By Wednesday 30th (end-of-day):\n",
    "  - review the pull request for correctness. At minimum:\n",
    "    - clone the PR branch and test that it works as promised.\n",
    "    - make sure the documentation (the docstring) is there.\n",
    "  - if there are issues, work with the submitter to have them fixed.\n",
    "    - (also fix any issues in your own code that someone else will be reviewing)\n",
    "  - merge the PR into master, fixing any merge conflicts as necessary.\n",
    "\n",
    "***Feel free to use #astr302_w19 and collaborate in case you get stuck!***"
   ]
  },
  {
   "cell_type": "code",
   "execution_count": null,
   "metadata": {
    "inputHidden": false,
    "outputHidden": false
   },
   "outputs": [],
   "source": []
  }
 ],
 "metadata": {
  "kernel_info": {
   "name": "python3"
  },
  "kernelspec": {
   "display_name": "Python 3",
   "language": "python",
   "name": "python3"
  },
  "language_info": {
   "codemirror_mode": {
    "name": "ipython",
    "version": 3
   },
   "file_extension": ".py",
   "mimetype": "text/x-python",
   "name": "python",
   "nbconvert_exporter": "python",
   "pygments_lexer": "ipython3",
   "version": "3.6.8"
  },
  "nteract": {
   "version": "0.12.3"
  }
 },
 "nbformat": 4,
 "nbformat_minor": 2
}
