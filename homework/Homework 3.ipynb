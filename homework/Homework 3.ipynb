{
 "cells": [
  {
   "cell_type": "markdown",
   "metadata": {},
   "source": [
    "## Homework 3\n",
    "\n",
    "*** Due: Wednesday, 11:59pm, Feb 6th, 2019. ***\n",
    "\n",
    "This week we're practicing using simple IPython Widgets, as well as recalling how to use `matplotlib` for plotting  (consult the [ASTR 300 notebooks](https://github.com/UWashington-Astro300/Astro300-A17/blob/master/Astro%20300%20-%20Autumn%202017.ipynb) if you've forgotten it).\n",
    "\n",
    "The tasks:\n",
    "\n",
    "* Write a function named `load_and_prepare_cmd` with the following signature:\n",
    "\n",
    "```python\n",
    "def load_and_prepare_cmd(filename):\n",
    "    ...\n",
    "\n",
    "(g, gr) = load_and_prepare_cmd('fieldA.csv')\n",
    "```\n",
    "\n",
    "This function takes a filename of a CSV-formatted file (`fieldA.csv` is included in the directory with this notebook). The CSV file has a number of columns, including one named named `g` (which is the g-band magnitude) and one named `r` (which is the r-band magnitude). After loading, the function must remove all entries that do not satisfy the condition $-0.5 < g-r < 2.5 {\\, \\rm and \\,} 14 < g < 24$. The function must return the arrays `g` and `g-r`.\n",
    "\n",
    "* Write a function named `interactive_hess` with the following signature:\n",
    "\n",
    "```python\n",
    "def interactive_hess(g, gr):\n",
    "    ...\n",
    "```\n",
    "that will generate an interactive [Hess diagram](https://en.wikipedia.org/wiki/Hess_diagram) given the data in $g$ and $g-r$. Use `matplotlib.hexbin` to generate the binned Hess diagram, with a default `gridsize` of 100. Make the `gridsize` interactivelly adaptable using a slider, ranging from `50` to `300` in steps of `1`. To match my solution, use the `bins='log'` argument to `matplotlib.hexbin` (see the documentation for what it does).\n",
    "\n",
    "* I recommend you prototype these in a Jupyter notebook. Once you've finished, move the code into a module named `visutils` (i.e., `visutils.py` file). Then modify your notebook to use the functions from the module. This is a good way to practice the pattern of prototyping and exploring in notebooks, then refactoring and moving reusable code into modules.\n",
    "\n",
    "Given your `visutils` module, I expect to be able to run this code and obtain a (similar) result."
   ]
  },
  {
   "cell_type": "code",
   "execution_count": null,
   "metadata": {},
   "outputs": [],
   "source": []
  }
 ],
 "metadata": {
  "kernelspec": {
   "display_name": "Python 3",
   "language": "python",
   "name": "python3"
  },
  "language_info": {
   "codemirror_mode": {
    "name": "ipython",
    "version": 3
   },
   "file_extension": ".py",
   "mimetype": "text/x-python",
   "name": "python",
   "nbconvert_exporter": "python",
   "pygments_lexer": "ipython3",
   "version": "3.6.8"
  }
 },
 "nbformat": 4,
 "nbformat_minor": 2
}
