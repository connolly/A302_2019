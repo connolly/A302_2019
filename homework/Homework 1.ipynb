{
 "cells": [
  {
   "cell_type": "markdown",
   "metadata": {},
   "source": [
    "## Homework: Write a Calculator module\n",
    "\n",
    "### Due Tuesday Jan 22nd\n",
    "\n",
    "Problem: write a Python module named `calc` with a class `Calculator` that will emulate a simple calculator capabile of addition, subtraction, multiplication, division, and clearing the state (setting it to zero). It must have methods for all these operations, named `add()`, `sub()`, `mul()`, `div()`, and `clr()`, respectivelly.\n",
    "\n",
    "Write the `Calculator` class to that it implements the [_method chaining_](https://en.wikipedia.org/wiki/Method_chaining) programming pattern.\n",
    "\n",
    "Finally, make sure the class and all of its methods are properly documented with documentation strings (\"docstrings\") following [proper conventions](https://www.python.org/dev/peps/pep-0257/).\n",
    "\n",
    "This module (and the class it contains) should work as a drop-in for the following program:"
   ]
  },
  {
   "cell_type": "code",
   "execution_count": 9,
   "metadata": {},
   "outputs": [],
   "source": [
    "def show_code_listing(fn):\n",
    "    from IPython.display import display, Markdown\n",
    "    return Markdown( '```python\\n{}\\n```'.format(open(fn).read()))\n",
    "\n",
    "def execute_and_show(cmdline):\n",
    "    from IPython.display import display, Markdown\n",
    "    res = ! $cmdline\n",
    "    res = '\\n'.join(['    ' + line for line in res])\n",
    "    print('```bash\\n    ${}\\n{}\\n```'.format(cmdline, res))"
   ]
  },
  {
   "cell_type": "code",
   "execution_count": 10,
   "metadata": {},
   "outputs": [
    {
     "data": {
      "text/markdown": [
       "```python\n",
       "#!/usr/bin/env python\n",
       "\n",
       "from calc import Calculator\n",
       "\n",
       "def assertAlmostEqual(a, b):\n",
       "\t\"\"\" A function that tests the approximate equality of two floating point numbers. \"\"\"\n",
       "\tassert round(a-b, 7) == 0, \"{} is not equal to {}.\".format(a, b)\n",
       "\n",
       "c1 = Calculator()\t# Create an instance of a calculator\n",
       "c2 = Calculator(50)\t# Create another calculator, initialized with 50\n",
       "\n",
       "# Test individual methods, and that the two instances properly\n",
       "# track their own state.\n",
       "c1.add(2);           assertAlmostEqual(c1.result(), 2)\n",
       "c1.mul(4);           assertAlmostEqual(c1.result(), 8)\n",
       "c2.add(50);          assertAlmostEqual(c2.result(), 100)\n",
       "c1.div(8);           assertAlmostEqual(c1.result(), 1)\n",
       "c1.sub(-3.);         assertAlmostEqual(c1.result(), 4)\n",
       "c2.div(c1.result()); assertAlmostEqual(c2.result(), 25)\n",
       "\n",
       "print (\"All tests passed! You have a working calculator!\")\n",
       "\n",
       "```"
      ],
      "text/plain": [
       "<IPython.core.display.Markdown object>"
      ]
     },
     "execution_count": 10,
     "metadata": {},
     "output_type": "execute_result"
    }
   ],
   "source": [
    "show_code_listing('./test_calc.py')"
   ]
  },
  {
   "cell_type": "code",
   "execution_count": 11,
   "metadata": {
    "inputHidden": false,
    "outputHidden": false
   },
   "outputs": [
    {
     "name": "stdout",
     "output_type": "stream",
     "text": [
      "```bash\n",
      "    $./test_calc.py\n",
      "    All tests passed! You have a working calculator!\n",
      "```\n"
     ]
    }
   ],
   "source": [
    "execute_and_show('./test_calc.py')"
   ]
  },
  {
   "cell_type": "code",
   "execution_count": null,
   "metadata": {},
   "outputs": [],
   "source": []
  }
 ],
 "metadata": {
  "kernel_info": {
   "name": "python3"
  },
  "kernelspec": {
   "display_name": "Python 3",
   "language": "python",
   "name": "python3"
  },
  "language_info": {
   "codemirror_mode": {
    "name": "ipython",
    "version": 3
   },
   "file_extension": ".py",
   "mimetype": "text/x-python",
   "name": "python",
   "nbconvert_exporter": "python",
   "pygments_lexer": "ipython3",
   "version": "3.7.2"
  },
  "nteract": {
   "version": "0.12.3"
  }
 },
 "nbformat": 4,
 "nbformat_minor": 2
}
